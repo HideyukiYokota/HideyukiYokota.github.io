{
  "nbformat": 4,
  "nbformat_minor": 0,
  "metadata": {
    "colab": {
      "provenance": [],
      "authorship_tag": "ABX9TyNdUvBKUQ8GbVmnyE83wpZq",
      "include_colab_link": true
    },
    "kernelspec": {
      "name": "python3",
      "display_name": "Python 3"
    },
    "language_info": {
      "name": "python"
    }
  },
  "cells": [
    {
      "cell_type": "markdown",
      "metadata": {
        "id": "view-in-github",
        "colab_type": "text"
      },
      "source": [
        "<a href=\"https://colab.research.google.com/github/HideyukiYokota/HideyukiYokota.github.io/blob/main/python_1.ipynb\" target=\"_parent\"><img src=\"https://colab.research.google.com/assets/colab-badge.svg\" alt=\"Open In Colab\"/></a>"
      ]
    },
    {
      "cell_type": "code",
      "execution_count": null,
      "metadata": {
        "id": "w_IRjOwYtYhr",
        "outputId": "d084f3cc-6e91-4f05-e17b-7791a1a7520c",
        "colab": {
          "base_uri": "https://localhost:8080/"
        }
      },
      "outputs": [
        {
          "output_type": "stream",
          "name": "stdout",
          "text": [
            "4\n"
          ]
        }
      ],
      "source": [
        "print(1+3)"
      ]
    },
    {
      "cell_type": "code",
      "source": [
        "age = 20 #年齢\n",
        "if age < 20:\n",
        "  print(\"ジュースで乾杯\")\n",
        "else:\n",
        "  print(\"お酒で乾杯\")"
      ],
      "metadata": {
        "id": "UkfWnyLAwrAa",
        "outputId": "3bb60909-211e-4a5a-954d-4d7017ccbc01",
        "colab": {
          "base_uri": "https://localhost:8080/"
        }
      },
      "execution_count": null,
      "outputs": [
        {
          "output_type": "stream",
          "name": "stdout",
          "text": [
            "お酒で乾杯\n"
          ]
        }
      ]
    },
    {
      "cell_type": "code",
      "source": [
        "print(\"今日の天気は\",\"雪\")\n",
        "print(\"今日の天気は\"+\"雪\")\n",
        "print(\"今日の天気は\"\"雪\")\n",
        "print(\"降水確率\" + str(50) + \"%\")\n",
        "print(\"雪\" * 5   )"
      ],
      "metadata": {
        "id": "9JyWxY_Xyar8"
      },
      "execution_count": null,
      "outputs": []
    },
    {
      "cell_type": "code",
      "source": [
        "user_name = \"侍太郎\"\n",
        "print(user_name)\n",
        "user_name = \"侍ハナコ\"\n",
        "print(user_name)\n",
        "last_name = \"侍\"\n",
        "first_name =\"太郎\"\n",
        "print(last_name + first_name)\n",
        "print(f\"私の名前は{last_name}{first_name}です。\")"
      ],
      "metadata": {
        "id": "ztTMQJlQzy7v"
      },
      "execution_count": null,
      "outputs": []
    },
    {
      "cell_type": "code",
      "source": [
        "user_names = [\"侍太郎\",\"侍次郎\"] #リスト\n",
        "print(user_names[1])\n",
        "print(user_names)\n",
        "user_names.append(\"侍五郎\")\n",
        "print(user_names)\n",
        "user_names.pop(1)\n",
        "print(user_names)"
      ],
      "metadata": {
        "id": "drb3Y2Je2h_j",
        "outputId": "d5cd05c1-f1b9-471c-bcb1-6b7743508ecc",
        "colab": {
          "base_uri": "https://localhost:8080/"
        }
      },
      "execution_count": null,
      "outputs": [
        {
          "output_type": "stream",
          "name": "stdout",
          "text": [
            "侍次郎\n",
            "['侍太郎', '侍次郎']\n",
            "['侍太郎', '侍次郎', '侍五郎']\n",
            "['侍太郎', '侍五郎']\n"
          ]
        }
      ]
    },
    {
      "cell_type": "code",
      "source": [
        "country_names = ('日本','アメリカ')#タプル\n",
        "print(country_names[0])\n",
        "prime_number = {2,5,7,3,5,5,5 }\n",
        "#print(prime_number[2]) #セットは順番・重複なしなのでエラー\n",
        "prime_number.add(10)\n",
        "print(prime_number)\n",
        "prime_number.remove(2)\n",
        "print(prime_number)\n"
      ],
      "metadata": {
        "id": "1MV9SAbw4kL4",
        "outputId": "866f1295-72a8-4d5b-bd03-dd1861b03653",
        "colab": {
          "base_uri": "https://localhost:8080/"
        }
      },
      "execution_count": null,
      "outputs": [
        {
          "output_type": "stream",
          "name": "stdout",
          "text": [
            "日本\n",
            "{2, 3, 5, 7, 10}\n",
            "{3, 5, 7, 10}\n"
          ]
        }
      ]
    },
    {
      "cell_type": "code",
      "source": [],
      "metadata": {
        "id": "ipv69vh65X6l"
      },
      "execution_count": null,
      "outputs": []
    }
  ]
}